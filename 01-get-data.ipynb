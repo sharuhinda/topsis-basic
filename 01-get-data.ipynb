{
 "cells": [
  {
   "attachments": {},
   "cell_type": "markdown",
   "metadata": {},
   "source": [
    "## Getting dataset"
   ]
  },
  {
   "attachments": {},
   "cell_type": "markdown",
   "metadata": {},
   "source": [
    "For this project we will take laptops info from dns-shop.kz which is one of the largest retailers in Kazakhstan.  \n",
    "Homepage: https://www.dns-shop.kz/  \n",
    "Search start page: https://www.dns-shop.kz/catalog/17a892f816404e77/noutbuki/"
   ]
  },
  {
   "cell_type": "code",
   "execution_count": 68,
   "metadata": {},
   "outputs": [
    {
     "name": "stdout",
     "output_type": "stream",
     "text": [
      "numpy version: 1.23.5\n",
      "pandas version: 1.5.2\n"
     ]
    }
   ],
   "source": [
    "import numpy as np\n",
    "print('numpy version:', np.__version__)\n",
    "\n",
    "import pandas as pd\n",
    "print('pandas version:', pd.__version__)\n",
    "\n",
    "from bs4 import BeautifulSoup\n",
    "\n",
    "from selenium.webdriver.chrome.service import Service\n",
    "from selenium.webdriver.chrome.options import Options\n",
    "from selenium import webdriver\n",
    "\n",
    "import sys\n",
    "import pathlib\n",
    "\n",
    "import logging\n",
    "\n",
    "from time import sleep\n",
    "import re"
   ]
  },
  {
   "cell_type": "code",
   "execution_count": 69,
   "metadata": {},
   "outputs": [],
   "source": [
    "logger = logging.getLogger(__name__)\n",
    "logger.setLevel(logging.DEBUG)\n",
    "\n",
    "handler = logging.StreamHandler(stream=sys.stdout)\n",
    "handler.setFormatter(logging.Formatter(fmt='[%(asctime)s: %(funcName)s: %(levelname)s] %(message)s'))\n",
    "logger.addHandler(handler)"
   ]
  },
  {
   "cell_type": "code",
   "execution_count": 70,
   "metadata": {},
   "outputs": [
    {
     "data": {
      "text/plain": [
       "WindowsPath('d/Applications/WebDriver')"
      ]
     },
     "execution_count": 70,
     "metadata": {},
     "output_type": "execute_result"
    }
   ],
   "source": [
    "pathlib.Path('d', 'Applications', 'WebDriver')"
   ]
  },
  {
   "cell_type": "code",
   "execution_count": 71,
   "metadata": {},
   "outputs": [],
   "source": [
    "chrome_options = Options()\n",
    "# chrome_options.add_argument('--disable-extensions')\n",
    "# chrome_options.add_argument('--disable-gpu')\n",
    "# chrome_options.add_argument('--headless')\n",
    "service = Service(executable_path=pathlib.WindowsPath('d:/Applications/WebDriver/chromedriver-112-x32.exe'))\n",
    "browser = webdriver.Chrome(service=service, options=chrome_options)"
   ]
  },
  {
   "attachments": {},
   "cell_type": "markdown",
   "metadata": {},
   "source": [
    "Search page = https://www.dns-shop.kz/catalog/17a892f816404e77/noutbuki/  \n",
    "Suffix for page navigation: ?p=2  \n",
    "Number of pages: element type = 'li', properties: class=\"pagination-widget__page\", data-role=\"pagination-page\", data-page-number=\"12\"  \n",
    "Products description page prefix: https://www.dns-shop.kz/product/  \n",
    "Product short description selector: body > div.container.category-child > div > div.products-page__content > div.products-page__list > div.products-list > div > div.catalog-products.view-simple > div class=\"catalog-product ui-button-widget\"  \n",
    "Product short description: <a class=\"catalog-product__name ui-link ui-link_black\" href=\"/product/43ad370591b71bb0/156-noutbuk-asus-laptop-15-x515ka-ej065w-seryj/\"><span>15.6\" Ноутбук ASUS Laptop 15 X515KA-EJ065W серый [Full HD (1920x1080), TN+film, Intel Celeron N4500, ядра: 2 х 1.1 ГГц, RAM 8 ГБ, SSD 128 ГБ, Intel UHD Graphics , Windows 11 Home Single Language]</span></a>  \n",
    "Product price selector: body > div.container.category-child > div > div.products-page__content > div.products-page__list > div.products-list > div > div:nth-child(1) > div:nth-child(1) > div.product-buy.product-buy_one-line.catalog-product__buy > div > div.product-buy__price"
   ]
  },
  {
   "cell_type": "code",
   "execution_count": 73,
   "metadata": {},
   "outputs": [],
   "source": [
    "base_url = 'https://www.dns-shop.kz'\n",
    "search_page = 'https://www.dns-shop.kz/catalog/17a892f816404e77/noutbuki/'"
   ]
  },
  {
   "cell_type": "code",
   "execution_count": 74,
   "metadata": {},
   "outputs": [
    {
     "name": "stdout",
     "output_type": "stream",
     "text": [
      "Page: 1: Got 18 ids, 18 descriptions, 18 prices\n",
      "Page: 2: Got 18 ids, 18 descriptions, 18 prices\n",
      "Page: 3: Got 18 ids, 18 descriptions, 18 prices\n",
      "Page: 4: Got 18 ids, 18 descriptions, 18 prices\n",
      "Page: 5: Got 18 ids, 18 descriptions, 18 prices\n",
      "Page: 6: Got 18 ids, 18 descriptions, 18 prices\n",
      "Page: 7: Got 18 ids, 18 descriptions, 18 prices\n",
      "Page: 8: Got 18 ids, 18 descriptions, 18 prices\n",
      "Page: 9: Got 18 ids, 18 descriptions, 18 prices\n",
      "Page: 10: Got 18 ids, 18 descriptions, 18 prices\n",
      "Page: 11: Got 18 ids, 18 descriptions, 18 prices\n",
      "Page: 12: Got 15 ids, 15 descriptions, 15 prices\n"
     ]
    }
   ],
   "source": [
    "laptops = {\n",
    "    'id': [],\n",
    "    'link': [],\n",
    "    'descr_short': [],\n",
    "    'price': []\n",
    "}\n",
    "browser.get(search_page)\n",
    "soup = BeautifulSoup(browser.page_source, 'html.parser')\n",
    "# Now we can search for keys needed\n",
    "num_pages = int(soup.find_all('li', 'pagination-widget__page')[-1]['data-page-number'])\n",
    "for page in range(1, num_pages+1):\n",
    "    if page > 1:\n",
    "        browser.get(search_page+f'?p={page}')\n",
    "        sleep(5) # needed to give time to update prices as they seem to be loaded dynamically\n",
    "        soup = BeautifulSoup(browser.page_source, 'html.parser')\n",
    "    ids = soup.find_all('div', 'catalog-product ui-button-widget')\n",
    "    descrs = soup.find_all('a', 'catalog-product__name ui-link ui-link_black')\n",
    "    prices = soup.find_all('div', 'product-buy__price')\n",
    "    print(f'Page: {page}: Got {len(ids)} ids, {len(descrs)} descriptions, {len(prices)} prices')\n",
    "    for el in ids:\n",
    "        laptops['id'].append(el['data-code'])\n",
    "    for el in descrs:\n",
    "        laptops['link'].append(el['href'])\n",
    "        laptops['descr_short'].append(el.span.text)\n",
    "    for el in prices:\n",
    "        laptops['price'].append(el.text)"
   ]
  },
  {
   "cell_type": "code",
   "execution_count": 75,
   "metadata": {},
   "outputs": [
    {
     "name": "stdout",
     "output_type": "stream",
     "text": [
      "id 213\n",
      "link 213\n",
      "descr_short 213\n",
      "price 213\n"
     ]
    }
   ],
   "source": [
    "for key, value in laptops.items():\n",
    "    print(key, len(value))"
   ]
  },
  {
   "cell_type": "code",
   "execution_count": 76,
   "metadata": {},
   "outputs": [],
   "source": [
    "browser.quit()"
   ]
  },
  {
   "cell_type": "code",
   "execution_count": 77,
   "metadata": {},
   "outputs": [
    {
     "data": {
      "text/html": [
       "<div>\n",
       "<style scoped>\n",
       "    .dataframe tbody tr th:only-of-type {\n",
       "        vertical-align: middle;\n",
       "    }\n",
       "\n",
       "    .dataframe tbody tr th {\n",
       "        vertical-align: top;\n",
       "    }\n",
       "\n",
       "    .dataframe thead th {\n",
       "        text-align: right;\n",
       "    }\n",
       "</style>\n",
       "<table border=\"1\" class=\"dataframe\">\n",
       "  <thead>\n",
       "    <tr style=\"text-align: right;\">\n",
       "      <th></th>\n",
       "      <th>id</th>\n",
       "      <th>link</th>\n",
       "      <th>descr_short</th>\n",
       "      <th>price</th>\n",
       "    </tr>\n",
       "  </thead>\n",
       "  <tbody>\n",
       "    <tr>\n",
       "      <th>0</th>\n",
       "      <td>5074554</td>\n",
       "      <td>/product/a9069bce37c6ed20/14-noutbuk-dexp-aqui...</td>\n",
       "      <td>14\" Ноутбук DEXP Aquilon серебристый [Full HD ...</td>\n",
       "      <td>99 990 ₸</td>\n",
       "    </tr>\n",
       "    <tr>\n",
       "      <th>1</th>\n",
       "      <td>5074520</td>\n",
       "      <td>/product/5b988b0337c5ed20/141-noutbuk-dexp-aqu...</td>\n",
       "      <td>14.1\" Ноутбук DEXP Aquilon серый [Full HD (192...</td>\n",
       "      <td>109 990 ₸</td>\n",
       "    </tr>\n",
       "    <tr>\n",
       "      <th>2</th>\n",
       "      <td>5074555</td>\n",
       "      <td>/product/0997a2e037c7ed20/156-noutbuk-dexp-aqu...</td>\n",
       "      <td>15.6\" Ноутбук DEXP Aquilon серебристый [Full H...</td>\n",
       "      <td>109 990 ₸</td>\n",
       "    </tr>\n",
       "    <tr>\n",
       "      <th>3</th>\n",
       "      <td>5074553</td>\n",
       "      <td>/product/1b77f39237c6ed20/156-noutbuk-dexp-aqu...</td>\n",
       "      <td>15.6\" Ноутбук DEXP Aquilon серебристый [Full H...</td>\n",
       "      <td>119 990 ₸</td>\n",
       "    </tr>\n",
       "    <tr>\n",
       "      <th>4</th>\n",
       "      <td>4900552</td>\n",
       "      <td>/product/5dd56779a0f76200/156-noutbuk-lenovo-i...</td>\n",
       "      <td>15.6\" Ноутбук Lenovo IdeaPad 3 15IGL05 серый [...</td>\n",
       "      <td>139 990 ₸</td>\n",
       "    </tr>\n",
       "  </tbody>\n",
       "</table>\n",
       "</div>"
      ],
      "text/plain": [
       "        id                                               link  \\\n",
       "0  5074554  /product/a9069bce37c6ed20/14-noutbuk-dexp-aqui...   \n",
       "1  5074520  /product/5b988b0337c5ed20/141-noutbuk-dexp-aqu...   \n",
       "2  5074555  /product/0997a2e037c7ed20/156-noutbuk-dexp-aqu...   \n",
       "3  5074553  /product/1b77f39237c6ed20/156-noutbuk-dexp-aqu...   \n",
       "4  4900552  /product/5dd56779a0f76200/156-noutbuk-lenovo-i...   \n",
       "\n",
       "                                         descr_short      price  \n",
       "0  14\" Ноутбук DEXP Aquilon серебристый [Full HD ...   99 990 ₸  \n",
       "1  14.1\" Ноутбук DEXP Aquilon серый [Full HD (192...  109 990 ₸  \n",
       "2  15.6\" Ноутбук DEXP Aquilon серебристый [Full H...  109 990 ₸  \n",
       "3  15.6\" Ноутбук DEXP Aquilon серебристый [Full H...  119 990 ₸  \n",
       "4  15.6\" Ноутбук Lenovo IdeaPad 3 15IGL05 серый [...  139 990 ₸  "
      ]
     },
     "execution_count": 77,
     "metadata": {},
     "output_type": "execute_result"
    }
   ],
   "source": [
    "df = pd.DataFrame(laptops)\n",
    "df.head()"
   ]
  },
  {
   "attachments": {},
   "cell_type": "markdown",
   "metadata": {},
   "source": [
    "From short description of each laptop we can extract main characteristics we will use later"
   ]
  },
  {
   "cell_type": "code",
   "execution_count": 78,
   "metadata": {},
   "outputs": [
    {
     "data": {
      "text/html": [
       "<div>\n",
       "<style scoped>\n",
       "    .dataframe tbody tr th:only-of-type {\n",
       "        vertical-align: middle;\n",
       "    }\n",
       "\n",
       "    .dataframe tbody tr th {\n",
       "        vertical-align: top;\n",
       "    }\n",
       "\n",
       "    .dataframe thead th {\n",
       "        text-align: right;\n",
       "    }\n",
       "</style>\n",
       "<table border=\"1\" class=\"dataframe\">\n",
       "  <thead>\n",
       "    <tr style=\"text-align: right;\">\n",
       "      <th></th>\n",
       "      <th>id</th>\n",
       "      <th>link</th>\n",
       "      <th>descr_short</th>\n",
       "      <th>price</th>\n",
       "      <th>screen_size</th>\n",
       "      <th>resolution</th>\n",
       "      <th>cpu</th>\n",
       "      <th>ram</th>\n",
       "      <th>hdd_ssd</th>\n",
       "      <th>gpu</th>\n",
       "      <th>os</th>\n",
       "    </tr>\n",
       "  </thead>\n",
       "  <tbody>\n",
       "    <tr>\n",
       "      <th>208</th>\n",
       "      <td>4881039</td>\n",
       "      <td>/product/8b8679ac3238ed20/142-noutbuk-apple-ma...</td>\n",
       "      <td>14.2\" Ноутбук Apple MacBook Pro серый [3024x19...</td>\n",
       "      <td>1499990</td>\n",
       "      <td>14.2</td>\n",
       "      <td>3024x1964</td>\n",
       "      <td>Apple M1 Pro</td>\n",
       "      <td>16</td>\n",
       "      <td>512</td>\n",
       "      <td>Apple M1 Pro 14-core</td>\n",
       "      <td>macOS</td>\n",
       "    </tr>\n",
       "    <tr>\n",
       "      <th>209</th>\n",
       "      <td>4881038</td>\n",
       "      <td>/product/8b8679ab3238ed20/142-noutbuk-apple-ma...</td>\n",
       "      <td>14.2\" Ноутбук Apple MacBook Pro серебристый [3...</td>\n",
       "      <td>1572990</td>\n",
       "      <td>14.2</td>\n",
       "      <td>3024x1964</td>\n",
       "      <td>Apple M1 Pro</td>\n",
       "      <td>16</td>\n",
       "      <td>1024</td>\n",
       "      <td>Apple M1 Pro 16-core</td>\n",
       "      <td>macOS</td>\n",
       "    </tr>\n",
       "    <tr>\n",
       "      <th>210</th>\n",
       "      <td>4881029</td>\n",
       "      <td>/product/8b8679a13238ed20/162-noutbuk-apple-ma...</td>\n",
       "      <td>16.2\" Ноутбук Apple MacBook Pro серый [3456x22...</td>\n",
       "      <td>1574990</td>\n",
       "      <td>16.2</td>\n",
       "      <td>3456x2234</td>\n",
       "      <td>Apple M1 Pro</td>\n",
       "      <td>16</td>\n",
       "      <td>512</td>\n",
       "      <td>Apple M1 Pro 16-core</td>\n",
       "      <td>macOS</td>\n",
       "    </tr>\n",
       "    <tr>\n",
       "      <th>211</th>\n",
       "      <td>4881043</td>\n",
       "      <td>/product/91f64b813238ed20/142-noutbuk-apple-ma...</td>\n",
       "      <td>14.2\" Ноутбук Apple MacBook Pro серый [3024x19...</td>\n",
       "      <td>1644990</td>\n",
       "      <td>14.2</td>\n",
       "      <td>3024x1964</td>\n",
       "      <td>Apple M1 Pro</td>\n",
       "      <td>32</td>\n",
       "      <td>512</td>\n",
       "      <td>Apple M1 Pro 14-core</td>\n",
       "      <td>macOS</td>\n",
       "    </tr>\n",
       "    <tr>\n",
       "      <th>212</th>\n",
       "      <td>9970850</td>\n",
       "      <td>/product/4ab1aff6b210b603/16-noutbuk-asus-rog-...</td>\n",
       "      <td>16\" Ноутбук ASUS ROG Strix SCAR 16 G634JY-NM03...</td>\n",
       "      <td>1999990</td>\n",
       "      <td>16</td>\n",
       "      <td>2560x1600</td>\n",
       "      <td>Intel Core i9-13980HX</td>\n",
       "      <td>32</td>\n",
       "      <td>1000</td>\n",
       "      <td>GeForce RTX 4090 для ноутбуков 16 ГБ</td>\n",
       "      <td>Windows 11 Pro</td>\n",
       "    </tr>\n",
       "  </tbody>\n",
       "</table>\n",
       "</div>"
      ],
      "text/plain": [
       "          id                                               link  \\\n",
       "208  4881039  /product/8b8679ac3238ed20/142-noutbuk-apple-ma...   \n",
       "209  4881038  /product/8b8679ab3238ed20/142-noutbuk-apple-ma...   \n",
       "210  4881029  /product/8b8679a13238ed20/162-noutbuk-apple-ma...   \n",
       "211  4881043  /product/91f64b813238ed20/142-noutbuk-apple-ma...   \n",
       "212  9970850  /product/4ab1aff6b210b603/16-noutbuk-asus-rog-...   \n",
       "\n",
       "                                           descr_short    price screen_size  \\\n",
       "208  14.2\" Ноутбук Apple MacBook Pro серый [3024x19...  1499990        14.2   \n",
       "209  14.2\" Ноутбук Apple MacBook Pro серебристый [3...  1572990        14.2   \n",
       "210  16.2\" Ноутбук Apple MacBook Pro серый [3456x22...  1574990        16.2   \n",
       "211  14.2\" Ноутбук Apple MacBook Pro серый [3024x19...  1644990        14.2   \n",
       "212  16\" Ноутбук ASUS ROG Strix SCAR 16 G634JY-NM03...  1999990          16   \n",
       "\n",
       "    resolution                    cpu ram hdd_ssd  \\\n",
       "208  3024x1964           Apple M1 Pro  16     512   \n",
       "209  3024x1964           Apple M1 Pro  16    1024   \n",
       "210  3456x2234           Apple M1 Pro  16     512   \n",
       "211  3024x1964           Apple M1 Pro  32     512   \n",
       "212  2560x1600  Intel Core i9-13980HX  32    1000   \n",
       "\n",
       "                                      gpu              os  \n",
       "208                  Apple M1 Pro 14-core           macOS  \n",
       "209                  Apple M1 Pro 16-core           macOS  \n",
       "210                  Apple M1 Pro 16-core           macOS  \n",
       "211                  Apple M1 Pro 14-core           macOS  \n",
       "212  GeForce RTX 4090 для ноутбуков 16 ГБ  Windows 11 Pro  "
      ]
     },
     "execution_count": 78,
     "metadata": {},
     "output_type": "execute_result"
    }
   ],
   "source": [
    "df['screen_size'] = df['descr_short'].apply(lambda x: re.findall(pattern=r'.+(?=\\\")', string=x)[0].strip())\n",
    "df['resolution'] = df['descr_short'].apply(lambda x: re.findall(pattern=r'\\d+x\\d{,4}', string=x)[0].strip())\n",
    "df['cpu'] = df['descr_short'].apply(lambda x: re.findall(pattern=r',[^,]+(?:intel|amd|apple).*?,', string=x, flags=re.I)[0][1:-1].strip())\n",
    "#df['cpu_cores'] = df['descr_short'].apply(lambda x: re.findall(r'(?<=ядра:\\s).*(?=\\sГГц)', x, flags=re.I)[0].strip())\n",
    "df['ram'] = df['descr_short'].apply(lambda x: re.findall(r'(?<=ram).*?(?=гб)', x, flags=re.I)[0].strip())\n",
    "df['hdd_ssd'] = df['descr_short'].apply(lambda x: re.findall(r'(?<=hdd\\s|ssd\\s)\\d+', x, flags=re.I)[0].strip())\n",
    "df['gpu'] = df['descr_short'].apply(lambda x: x[x.index('[')+1 : -1].split(',')[-2].strip())\n",
    "df['os'] = df['descr_short'].apply(lambda x: x[x.index('[')+1 : -1].split(',')[-1].strip())\n",
    "df['price'] = df['price'].apply(lambda x: int(''.join(re.findall(r'\\d+', x))))\n",
    "df.tail()"
   ]
  },
  {
   "cell_type": "code",
   "execution_count": 79,
   "metadata": {},
   "outputs": [],
   "source": [
    "df.to_csv('datasets/laptops.csv', index=False)"
   ]
  },
  {
   "cell_type": "code",
   "execution_count": null,
   "metadata": {},
   "outputs": [],
   "source": []
  }
 ],
 "metadata": {
  "kernelspec": {
   "display_name": "dsml",
   "language": "python",
   "name": "python3"
  },
  "language_info": {
   "codemirror_mode": {
    "name": "ipython",
    "version": 3
   },
   "file_extension": ".py",
   "mimetype": "text/x-python",
   "name": "python",
   "nbconvert_exporter": "python",
   "pygments_lexer": "ipython3",
   "version": "3.10.8"
  },
  "orig_nbformat": 4
 },
 "nbformat": 4,
 "nbformat_minor": 2
}
